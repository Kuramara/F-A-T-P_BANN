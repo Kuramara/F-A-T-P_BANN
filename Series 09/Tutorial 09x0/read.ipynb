{
 "cells": [
  {
   "cell_type": "code",
   "execution_count": 7,
   "metadata": {},
   "outputs": [
    {
     "ename": "ArgumentError",
     "evalue": "ArgumentError: Package numpy not found in current path.\n- Run `import Pkg; Pkg.add(\"numpy\")` to install the numpy package.",
     "output_type": "error",
     "traceback": [
      "ArgumentError: Package numpy not found in current path.\n",
      "- Run `import Pkg; Pkg.add(\"numpy\")` to install the numpy package.\n",
      "\n",
      "Stacktrace:\n",
      "  [1] macro expansion\n",
      "    @ .\\loading.jl:1772 [inlined]\n",
      "  [2] macro expansion\n",
      "    @ .\\lock.jl:267 [inlined]\n",
      "  [3] __require(into::Module, mod::Symbol)\n",
      "    @ Base .\\loading.jl:1753\n",
      "  [4] #invoke_in_world#3\n",
      "    @ .\\essentials.jl:926 [inlined]\n",
      "  [5] invoke_in_world\n",
      "    @ .\\essentials.jl:923 [inlined]\n",
      "  [6] require(into::Module, mod::Symbol)\n",
      "    @ Base .\\loading.jl:1746\n",
      "  [7] eval\n",
      "    @ .\\boot.jl:385 [inlined]\n",
      "  [8] include_string(mapexpr::typeof(REPL.softscope), mod::Module, code::String, filename::String)\n",
      "    @ Base .\\loading.jl:2076\n",
      "  [9] #invokelatest#2\n",
      "    @ .\\essentials.jl:892 [inlined]\n",
      " [10] invokelatest\n",
      "    @ .\\essentials.jl:889 [inlined]\n",
      " [11] (::VSCodeServer.var\"#216#217\"{VSCodeServer.NotebookRunCellArguments, String})()\n",
      "    @ VSCodeServer c:\\Users\\k\\.vscode\\extensions\\julialang.language-julia-1.76.2\\scripts\\packages\\VSCodeServer\\src\\serve_notebook.jl:19\n",
      " [12] withpath(f::VSCodeServer.var\"#216#217\"{VSCodeServer.NotebookRunCellArguments, String}, path::String)\n",
      "    @ VSCodeServer c:\\Users\\k\\.vscode\\extensions\\julialang.language-julia-1.76.2\\scripts\\packages\\VSCodeServer\\src\\repl.jl:274\n",
      " [13] notebook_runcell_request(conn::VSCodeServer.JSONRPC.JSONRPCEndpoint{Base.PipeEndpoint, Base.PipeEndpoint}, params::VSCodeServer.NotebookRunCellArguments)\n",
      "    @ VSCodeServer c:\\Users\\k\\.vscode\\extensions\\julialang.language-julia-1.76.2\\scripts\\packages\\VSCodeServer\\src\\serve_notebook.jl:13\n",
      " [14] dispatch_msg(x::VSCodeServer.JSONRPC.JSONRPCEndpoint{Base.PipeEndpoint, Base.PipeEndpoint}, dispatcher::VSCodeServer.JSONRPC.MsgDispatcher, msg::Dict{String, Any})\n",
      "    @ VSCodeServer.JSONRPC c:\\Users\\k\\.vscode\\extensions\\julialang.language-julia-1.76.2\\scripts\\packages\\JSONRPC\\src\\typed.jl:67\n",
      " [15] serve_notebook(pipename::String, outputchannel_logger::Base.CoreLogging.SimpleLogger; crashreporting_pipename::String)\n",
      "    @ VSCodeServer c:\\Users\\k\\.vscode\\extensions\\julialang.language-julia-1.76.2\\scripts\\packages\\VSCodeServer\\src\\serve_notebook.jl:139\n",
      " [16] top-level scope\n",
      "    @ c:\\Users\\k\\.vscode\\extensions\\julialang.language-julia-1.76.2\\scripts\\notebook\\notebook.jl:35"
     ]
    }
   ],
   "source": [
    "import numpy as np\n",
    "import tensorflow as tf\n",
    "import tf_keras\n",
    "import tensorflow_probability as tfp\n",
    "from tensorflow_probability import distributions as tfd\n",
    "\n",
    "from matplotlib import pylab as plt\n",
    "%matplotlib inline\n",
    "import scipy.stats"
   ]
  },
  {
   "cell_type": "code",
   "execution_count": null,
   "metadata": {},
   "outputs": [],
   "source": [
    "using DataFrames\n",
    "using CSV\n",
    "\n",
    "# Assuming the CSV file is in the same directory as your script\n",
    "file_path = \"EXPORT_2015_monthly_annual.csv\"\n",
    "\n",
    "# Read CSV file into a DataFrame\n",
    "df = CSV.read(file_path, DataFrame)\n",
    "\n",
    "# Display the DataFrame\n",
    "display(df)\n",
    "\n",
    "\n",
    "# View first 10 rows\n",
    "display(first(df, 10))\n",
    "\n",
    "# View last 10 rows\n",
    "display(last(df, 10))\n",
    "\n",
    "# View column names\n",
    "println(names(df))\n",
    "\n",
    "# View summary statistics\n",
    "println(describe(df))\n",
    "\n",
    "# Group data by region and view total sales\n",
    "println(by(df, :Region, :Sales => sum))\n",
    "\n",
    "# Group data by product and view average sales\n",
    "println(by(df, :Product, :Sales => mean))\n"
   ]
  },
  {
   "cell_type": "code",
   "execution_count": 6,
   "metadata": {},
   "outputs": [
    {
     "ename": "Pkg.Types.PkgError",
     "evalue": "The following package names could not be resolved:\n * numpy (not found in project, manifest or registry)\n\u001b[36m   Suggestions:\u001b[39m \u001b[0m\u001b[1mN\u001b[22m\u001b[0m\u001b[1mu\u001b[22m\u001b[0m\u001b[1mm\u001b[22m\u001b[0m\u001b[1mP\u001b[22m\u001b[0m\u001b[1my\u001b[22mArrays De\u001b[0m\u001b[1mn\u001b[22m\u001b[0m\u001b[1mu\u001b[22m\u001b[0m\u001b[1mm\u001b[22m\u001b[0m\u001b[1mp\u001b[22m\u001b[0m\u001b[1my\u001b[22mfy Qua\u001b[0m\u001b[1mn\u001b[22mt\u001b[0m\u001b[1mu\u001b[22m\u001b[0m\u001b[1mm\u001b[22mTomogra\u001b[0m\u001b[1mp\u001b[22mh\u001b[0m\u001b[1my\u001b[22m",
     "output_type": "error",
     "traceback": [
      "The following package names could not be resolved:\n",
      " * numpy (not found in project, manifest or registry)\n",
      "\u001b[36m   Suggestions:\u001b[39m \u001b[0m\u001b[1mN\u001b[22m\u001b[0m\u001b[1mu\u001b[22m\u001b[0m\u001b[1mm\u001b[22m\u001b[0m\u001b[1mP\u001b[22m\u001b[0m\u001b[1my\u001b[22mArrays De\u001b[0m\u001b[1mn\u001b[22m\u001b[0m\u001b[1mu\u001b[22m\u001b[0m\u001b[1mm\u001b[22m\u001b[0m\u001b[1mp\u001b[22m\u001b[0m\u001b[1my\u001b[22mfy Qua\u001b[0m\u001b[1mn\u001b[22mt\u001b[0m\u001b[1mu\u001b[22m\u001b[0m\u001b[1mm\u001b[22mTomogra\u001b[0m\u001b[1mp\u001b[22mh\u001b[0m\u001b[1my\u001b[22m\n",
      "\n",
      "Stacktrace:\n",
      " [1] pkgerror(msg::String)\n",
      "   @ Pkg.Types C:\\Users\\k\\AppData\\Local\\Programs\\Julia-1.10.2\\share\\julia\\stdlib\\v1.10\\Pkg\\src\\Types.jl:70\n",
      " [2] ensure_resolved(ctx::Pkg.Types.Context, manifest::Pkg.Types.Manifest, pkgs::Vector{Pkg.Types.PackageSpec}; registry::Bool)\n",
      "   @ Pkg.Types C:\\Users\\k\\AppData\\Local\\Programs\\Julia-1.10.2\\share\\julia\\stdlib\\v1.10\\Pkg\\src\\Types.jl:1030\n",
      " [3] ensure_resolved\n",
      "   @ C:\\Users\\k\\AppData\\Local\\Programs\\Julia-1.10.2\\share\\julia\\stdlib\\v1.10\\Pkg\\src\\Types.jl:981 [inlined]\n",
      " [4] add(ctx::Pkg.Types.Context, pkgs::Vector{Pkg.Types.PackageSpec}; preserve::Pkg.Types.PreserveLevel, platform::Base.BinaryPlatforms.Platform, kwargs::@Kwargs{io::VSCodeServer.IJuliaCore.IJuliaStdio{Base.PipeEndpoint, typeof(VSCodeServer.io_send_callback)}})\n",
      "   @ Pkg.API C:\\Users\\k\\AppData\\Local\\Programs\\Julia-1.10.2\\share\\julia\\stdlib\\v1.10\\Pkg\\src\\API.jl:267\n",
      " [5] add(pkgs::Vector{Pkg.Types.PackageSpec}; io::VSCodeServer.IJuliaCore.IJuliaStdio{Base.PipeEndpoint, typeof(VSCodeServer.io_send_callback)}, kwargs::@Kwargs{})\n",
      "   @ Pkg.API C:\\Users\\k\\AppData\\Local\\Programs\\Julia-1.10.2\\share\\julia\\stdlib\\v1.10\\Pkg\\src\\API.jl:159\n",
      " [6] add(pkgs::Vector{Pkg.Types.PackageSpec})\n",
      "   @ Pkg.API C:\\Users\\k\\AppData\\Local\\Programs\\Julia-1.10.2\\share\\julia\\stdlib\\v1.10\\Pkg\\src\\API.jl:148\n",
      " [7] add\n",
      "   @ C:\\Users\\k\\AppData\\Local\\Programs\\Julia-1.10.2\\share\\julia\\stdlib\\v1.10\\Pkg\\src\\API.jl:147 [inlined]\n",
      " [8] add(pkg::String)\n",
      "   @ Pkg.API C:\\Users\\k\\AppData\\Local\\Programs\\Julia-1.10.2\\share\\julia\\stdlib\\v1.10\\Pkg\\src\\API.jl:146\n",
      " [9] top-level scope\n",
      "   @ c:\\Users\\k\\Documents\\GitHub\\F-A-T-P_BANN\\Series 09\\Tutorial 09x0\\read.ipynb:1"
     ]
    }
   ],
   "source": [
    "import Pkg; Pkg.add(\"numpy\")"
   ]
  }
 ],
 "metadata": {
  "kernelspec": {
   "display_name": "Julia 1.10.2",
   "language": "julia",
   "name": "julia-1.10"
  },
  "language_info": {
   "file_extension": ".jl",
   "mimetype": "application/julia",
   "name": "julia",
   "version": "1.10.2"
  }
 },
 "nbformat": 4,
 "nbformat_minor": 2
}
