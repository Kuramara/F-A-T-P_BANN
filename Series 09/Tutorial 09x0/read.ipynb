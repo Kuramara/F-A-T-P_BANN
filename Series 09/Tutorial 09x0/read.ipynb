{
 "cells": [
  {
   "cell_type": "code",
   "execution_count": null,
   "metadata": {},
   "outputs": [],
   "source": [
    "# Install libraries.\n",
    "pip install tensorflow==2.1.0\n",
    "pip install tensorflow-probability==0.9.0"
   ]
  },
  {
   "cell_type": "code",
   "execution_count": null,
   "metadata": {},
   "outputs": [],
   "source": [
    "import pandas as pd\n",
    "import numpy as np\n",
    "import tensorflow as tf\n",
    "tfk = tf.keras\n",
    "tf.keras.backend.set_floatx(\"float64\")\n",
    "import tensorflow_probability as tfp\n",
    "tfd = tfp.distributions\n",
    "from sklearn.preprocessing import StandardScaler\n",
    "from sklearn.ensemble import IsolationForest\n",
    "\n",
    "# Define helper functions.\n",
    "scaler = StandardScaler()\n",
    "detector = IsolationForest(n_estimators=1000, random_state=0)  # Removed deprecated 'behaviour' parameter\n",
    "neg_log_likelihood = lambda x, rv_x: -rv_x.log_prob(x)\n"
   ]
  },
  {
   "cell_type": "code",
   "execution_count": null,
   "metadata": {},
   "outputs": [],
   "source": [
    "# Load data and keep only first six months due to drift.\n",
    "data = pd.read_excel(\"AirQualityUCI.xlsx\")\n",
    "data = data[data[\"Date\"] <= \"2004-09-10\"]"
   ]
  },
  {
   "cell_type": "code",
   "execution_count": null,
   "metadata": {},
   "outputs": [],
   "source": [
    "from ucimlrepo import fetch_ucirepo \n",
    "  \n",
    "# fetch dataset \n",
    "air_quality = fetch_ucirepo(id=360) \n",
    "  \n",
    "# data (as pandas dataframes) \n",
    "X = air_quality.data.features \n",
    "y = air_quality.data.targets \n",
    "  \n",
    "# metadata \n",
    "print(air_quality.metadata) \n",
    "  \n",
    "# variable information \n",
    "print(air_quality.variables) \n"
   ]
  },
  {
   "cell_type": "code",
   "execution_count": null,
   "metadata": {},
   "outputs": [],
   "source": [
    "# Select columns and remove rows with missing values.\n",
    "columns = [\"PT08.S1(CO)\", \"PT08.S3(NOx)\", \"PT08.S4(NO2)\", \"PT08.S5(O3)\", \"T\", \"AH\", \"CO(GT)\", \"C6H6(GT)\", \"NOx(GT)\", \"NO2(GT)\"]\n",
    "data = data[columns].dropna(axis=0)\n",
    "# Scale data to zero mean and unit variance.\n",
    "X_t = scaler.fit_transform(data)\n",
    "# Remove outliers.\n",
    "is_inlier = detector.fit_predict(X_t)\n",
    "X_t = X_t[(is_inlier > 0),:]\n",
    "# Restore frame.\n",
    "dataset = pd.DataFrame(X_t, columns=columns)\n",
    "# Select labels for inputs and outputs.\n",
    "inputs = [\"PT08.S1(CO)\", \"PT08.S3(NOx)\", \"PT08.S4(NO2)\", \"PT08.S5(O3)\", \"T\", \"AH\"]\n",
    "outputs = [\"CO(GT)\", \"C6H6(GT)\", \"NOx(GT)\", \"NO2(GT)\"]"
   ]
  },
  {
   "cell_type": "code",
   "execution_count": null,
   "metadata": {},
   "outputs": [],
   "source": [
    "# Define some hyperparameters.\n",
    "n_epochs = 50\n",
    "n_samples = dataset.shape[0]\n",
    "n_batches = 10\n",
    "batch_size = np.floor(n_samples/n_batches)\n",
    "buffer_size = n_samples\n",
    "# Define training and test data sizes.\n",
    "n_train = int(0.7*dataset.shape[0])\n",
    "# Define dataset instance.\n",
    "data = tf.data.Dataset.from_tensor_slices((dataset[inputs].values, dataset[outputs].values))\n",
    "data = data.shuffle(n_samples, reshuffle_each_iteration=True)\n",
    "# Define train and test data instances.\n",
    "data_train = data.take(n_train).batch(batch_size).repeat(n_epochs)\n",
    "data_test = data.skip(n_train).batch(1)"
   ]
  },
  {
   "cell_type": "code",
   "execution_count": null,
   "metadata": {},
   "outputs": [],
   "source": [
    "# Define prior for regularization.\n",
    "prior = tfd.Independent(tfd.Normal(loc=tf.zeros(len(outputs), dtype=tf.float64), scale=1.0), reinterpreted_batch_ndims=1)\n",
    "# Define model instance.\n",
    "model = tfk.Sequential([\n",
    "tfk.layers.InputLayer(shape=(len(inputs),), name=\"input\"),\n",
    "tfk.layers.Dense(10, activation=\"relu\", name=\"dense_1\"),\n",
    "tfk.layers.Dense(tfp.layers.MultivariateNormalTriL.params_size(\n",
    "len(outputs)), activation=None, name=\"distribution_weights\"),\n",
    "tfp.layers.MultivariateNormalTriL(len(outputs), activity_regularizer=tfp.layers.KLDivergenceRegularizer(prior, weight=1/n_batches), name=\"output\")\n",
    "], name=\"model\")\n",
    "# Compile model.\n",
    "model.compile(optimizer=\"adam\", loss=neg_log_likelihood)\n",
    "# Run training session.\n",
    "model.fit(data_train, epochs=n_epochs, validation_data=data_test, verbose=False)\n",
    "# Describe model.\n",
    "model.summary()"
   ]
  },
  {
   "cell_type": "code",
   "execution_count": null,
   "metadata": {},
   "outputs": [],
   "source": [
    "tfp.layers.DenseFlipout(10, activation=\"relu\", name=\"dense_1\")\n"
   ]
  },
  {
   "cell_type": "code",
   "execution_count": null,
   "metadata": {},
   "outputs": [],
   "source": [
    "# Predict.\n",
    "samples = 500\n",
    "iterations = 10\n",
    "test_iterator = tf.compat.v1.data.make_one_shot_iterator(data_test)\n",
    "X_true, Y_true, Y_pred = np.empty(shape=(samples, len(inputs))), np.empty(shape=(samples, len(outputs))), np.empty(shape=(samples, len(outputs), iterations))\n",
    "for i in range(samples):\n",
    "    features, labels = test_iterator.get_next()\n",
    "    X_true[i,:] = features\n",
    "    Y_true[i,:] = labels.numpy()\n",
    "    for k in range(iterations):\n",
    "        Y_pred[i,:,k] = model.predict(features)\n",
    "        \n",
    "# Calculate mean and standard deviation.\n",
    "Y_pred_m = np.mean(Y_pred, axis=-1)\n",
    "Y_pred_s = np.std(Y_pred, axis=-1)\n"
   ]
  },
  {
   "cell_type": "code",
   "execution_count": null,
   "metadata": {},
   "outputs": [],
   "source": []
  }
 ],
 "metadata": {
  "kernelspec": {
   "display_name": "Python 3",
   "language": "python",
   "name": "python3"
  },
  "language_info": {
   "codemirror_mode": {
    "name": "ipython",
    "version": 3
   },
   "file_extension": ".py",
   "mimetype": "text/x-python",
   "name": "python",
   "nbconvert_exporter": "python",
   "pygments_lexer": "ipython3",
   "version": "3.12.3"
  }
 },
 "nbformat": 4,
 "nbformat_minor": 2
}
